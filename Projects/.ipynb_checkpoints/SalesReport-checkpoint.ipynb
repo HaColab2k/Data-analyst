{
 "cells": [
  {
   "cell_type": "markdown",
   "metadata": {},
   "source": [
    "# Sales Report in 2019  "
   ]
  },
  {
   "cell_type": "markdown",
   "metadata": {},
   "source": [
    "## 1. Load Data"
   ]
  },
  {
   "cell_type": "markdown",
   "metadata": {},
   "source": [
    "## Unzip"
   ]
  },
  {
   "cell_type": "code",
   "execution_count": 1,
   "metadata": {},
   "outputs": [
    {
     "name": "stdout",
     "output_type": "stream",
     "text": [
      "Files extracted to: Data/Sales2019\n"
     ]
    }
   ],
   "source": [
    "# Unzip file\n",
    "import zipfile\n",
    "path='Data/Sales2019.zip'\n",
    "extracted_path='Data/Sales2019'\n",
    "with zipfile.ZipFile(path, 'r') as zip_ref:\n",
    "    zip_ref.extractall(extracted_path)\n",
    "print(\"Files extracted to:\", extracted_path)"
   ]
  },
  {
   "cell_type": "code",
   "execution_count": 2,
   "metadata": {},
   "outputs": [
    {
     "name": "stdout",
     "output_type": "stream",
     "text": [
      "[]\n"
     ]
    }
   ],
   "source": [
    "import pandas as pd\n",
    "import os\n",
    "\n",
    "# Specify the directory path\n",
    "directory = \"Data/Sales2019\"\n",
    "# List the CSV files in the directory\n",
    "csv_files = [file for file in os.listdir(directory) if file.startswith('cleaned_') and file.endswith('.csv')]\n",
    "print(csv_files)"
   ]
  },
  {
   "cell_type": "code",
   "execution_count": 3,
   "metadata": {},
   "outputs": [],
   "source": [
    "import pandas as pd\n",
    "import os\n",
    "\n",
    "# Specify the directory path\n",
    "directory = \"Data/Sales2019\"\n",
    "\n",
    "# List the CSV files in the directory\n",
    "csv_files = [file for file in os.listdir(directory) if file.startswith('cleaned_') and file.endswith('.csv')]\n",
    "\n",
    "# Loop through each cleaned CSV file\n",
    "for csv_file in csv_files:\n",
    "    # Construct the full file path\n",
    "    file_path = os.path.join(directory, csv_file)\n",
    "    \n",
    "    # Read cleaned data into pandas DataFrame\n",
    "    df = pd.read_csv(file_path, delimiter='\\t')  # Adjust delimiter and encoding as needed\n",
    "    \n",
    "    # Print the DataFrame\n",
    "    print(f\"DataFrame from {csv_file}:\")\n",
    "    print(df)\n"
   ]
  },
  {
   "cell_type": "code",
   "execution_count": null,
   "metadata": {},
   "outputs": [],
   "source": []
  }
 ],
 "metadata": {
  "kernelspec": {
   "display_name": "Python 3 (ipykernel)",
   "language": "python",
   "name": "python3"
  },
  "language_info": {
   "codemirror_mode": {
    "name": "ipython",
    "version": 3
   },
   "file_extension": ".py",
   "mimetype": "text/x-python",
   "name": "python",
   "nbconvert_exporter": "python",
   "pygments_lexer": "ipython3",
   "version": "3.11.3"
  }
 },
 "nbformat": 4,
 "nbformat_minor": 2
}
