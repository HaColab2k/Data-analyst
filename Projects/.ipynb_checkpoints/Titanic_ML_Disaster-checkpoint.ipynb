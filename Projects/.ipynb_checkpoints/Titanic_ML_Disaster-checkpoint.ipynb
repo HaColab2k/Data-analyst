{
 "cells": [
  {
   "cell_type": "markdown",
   "id": "a0471b34",
   "metadata": {},
   "source": [
    "# Titanic - Machine Learning from Disaster"
   ]
  },
  {
   "cell_type": "markdown",
   "id": "3db09310",
   "metadata": {},
   "source": [
    "## 1. Load datasets"
   ]
  },
  {
   "cell_type": "code",
   "execution_count": 1,
   "id": "38b84670",
   "metadata": {},
   "outputs": [],
   "source": [
    "# Import modules\n",
    "import kaggle\n",
    "import pandas as pd\n",
    "import numpy as np\n",
    "import zipfile\n",
    "import os\n",
    "\n",
    "import matplotlib.pyplot as plt\n",
    "import seaborn as sns"
   ]
  },
  {
   "cell_type": "code",
   "execution_count": 2,
   "id": "2e774c84",
   "metadata": {},
   "outputs": [],
   "source": [
    "# Download the competition dataset using the API key in the .kaggle directory\n",
    "competition_name = \"titanic\"\n",
    "kaggle.api.competition_download_files(competition_name, path='.kaggle')"
   ]
  },
  {
   "cell_type": "code",
   "execution_count": 3,
   "id": "1bac336b",
   "metadata": {},
   "outputs": [],
   "source": [
    "# Unzip the file\n",
    "zip_file_path = '.kaggle/titanic.zip'\n",
    "extracted_folder_path = '.kaggle/titanic_data'\n",
    "os.makedirs(extracted_folder_path, exist_ok=True)\n",
    "with zipfile.ZipFile(zip_file_path, 'r') as zip_ref:\n",
    "    zip_ref.extractall(extracted_folder_path)\n",
    "print(\"Files extracted to:\", extracted_folder_path)"
   ]
  },
  {
   "cell_type": "code",
   "execution_count": 4,
   "id": "c30febe4",
   "metadata": {},
   "outputs": [],
   "source": [
    "from os import listdir\n",
    "print(listdir(extracted_folder_path))"
   ]
  },
  {
   "cell_type": "code",
   "execution_count": 5,
   "id": "afc8b3bd",
   "metadata": {},
   "outputs": [],
   "source": [
    "# Load datasets\n",
    "train_df=pd.read_csv(extracted_folder_path+'/train.csv')\n",
    "test_df=pd.read_csv(extracted_folder_path+'/test.csv')"
   ]
  },
  {
   "cell_type": "code",
   "execution_count": 6,
   "id": "fb3d2239",
   "metadata": {},
   "outputs": [],
   "source": [
    "# Viewing attributes\n",
    "train_df.columns\n",
    "# The Survived column use to identify who are surviving. An attribute for Machine learning to define a passenger die or live"
   ]
  },
  {
   "cell_type": "code",
   "execution_count": 7,
   "id": "9aeb3dd8",
   "metadata": {},
   "outputs": [],
   "source": [
    "test_df.columns"
   ]
  },
  {
   "cell_type": "code",
   "execution_count": 8,
   "id": "20b76947",
   "metadata": {},
   "outputs": [],
   "source": [
    "train_df.head() "
   ]
  },
  {
   "cell_type": "code",
   "execution_count": 9,
   "id": "14852be5",
   "metadata": {},
   "outputs": [],
   "source": [
    "test_df.head()"
   ]
  },
  {
   "cell_type": "code",
   "execution_count": 10,
   "id": "5d5313d2",
   "metadata": {},
   "outputs": [],
   "source": [
    "train_df.set_index(train_df.PassengerId,inplace=True)\n",
    "train_df.head()"
   ]
  },
  {
   "cell_type": "code",
   "execution_count": 11,
   "id": "41d3de3d",
   "metadata": {},
   "outputs": [],
   "source": [
    "train_df.drop('PassengerId', axis=1, inplace=True) #axis=1 => all rows, inplace => on this data"
   ]
  },
  {
   "cell_type": "code",
   "execution_count": 12,
   "id": "af4b5948",
   "metadata": {},
   "outputs": [],
   "source": [
    "train_df.head()"
   ]
  },
  {
   "cell_type": "code",
   "execution_count": 13,
   "id": "4e75ac0c",
   "metadata": {
    "scrolled": true
   },
   "outputs": [],
   "source": [
    "test_df.set_index(test_df.PassengerId,inplace=True)\n",
    "test_df.drop('PassengerId', axis=1, inplace=True) #axis=1 => all rows, inplace => on this data\n",
    "test_df.head()"
   ]
  },
  {
   "cell_type": "markdown",
   "id": "f9aa0be8",
   "metadata": {},
   "source": [
    "## 2. Features classification"
   ]
  },
  {
   "cell_type": "code",
   "execution_count": 14,
   "id": "cfd22c01",
   "metadata": {},
   "outputs": [],
   "source": [
    "train_df.info()"
   ]
  },
  {
   "cell_type": "code",
   "execution_count": 15,
   "id": "c15382ff",
   "metadata": {},
   "outputs": [],
   "source": [
    "test_df.info()"
   ]
  },
  {
   "cell_type": "code",
   "execution_count": 16,
   "id": "4f315d48",
   "metadata": {},
   "outputs": [],
   "source": [
    "features= ['Pclass','Sex','SibSp','Parch','Embarked']\n",
    "def convert_2category (df, features): # df: dataframe, features: list\n",
    "    for feature in features:\n",
    "        df[feature]=df[feature].astype('category')\n",
    "convert_2category(train_df,features)\n",
    "convert_2category(test_df,features)"
   ]
  },
  {
   "cell_type": "code",
   "execution_count": 17,
   "id": "08385e55",
   "metadata": {},
   "outputs": [],
   "source": [
    "train_df.info()"
   ]
  },
  {
   "cell_type": "markdown",
   "id": "500ffa7c",
   "metadata": {},
   "source": [
    "### 2.1. Distribution of Numerical features"
   ]
  },
  {
   "cell_type": "code",
   "execution_count": 18,
   "id": "9646216d",
   "metadata": {},
   "outputs": [],
   "source": [
    "train_df.describe() # describe numerical features"
   ]
  },
  {
   "cell_type": "markdown",
   "id": "3eb0529a",
   "metadata": {},
   "source": [
    "### 2.2. Distribution of Categorical features"
   ]
  },
  {
   "cell_type": "code",
   "execution_count": 19,
   "id": "4f29d4a5",
   "metadata": {},
   "outputs": [],
   "source": [
    "train_df.describe(include=['category'])"
   ]
  },
  {
   "cell_type": "markdown",
   "id": "a3a3af90",
   "metadata": {},
   "source": [
    "## 3. Exploratory Data Analysis (EDA)"
   ]
  },
  {
   "cell_type": "markdown",
   "id": "3d11877f",
   "metadata": {},
   "source": [
    "### Correlating categorical features"
   ]
  },
  {
   "cell_type": "markdown",
   "id": "136d240c",
   "metadata": {},
   "source": [
    "Categorical: `Survived`, `Sex`, `Embarked`, `Pclass`(ordinal), `SibSp`, `Parch`"
   ]
  },
  {
   "cell_type": "markdown",
   "id": "445193f7",
   "metadata": {},
   "source": [
    "## `Survived`"
   ]
  },
  {
   "cell_type": "code",
   "execution_count": 20,
   "id": "5c3e940e",
   "metadata": {},
   "outputs": [],
   "source": [
    "train_df['Survived'].value_counts().to_frame()"
   ]
  },
  {
   "cell_type": "code",
   "execution_count": 21,
   "id": "a45bed2e",
   "metadata": {},
   "outputs": [],
   "source": [
    "train_df['Survived'].value_counts(normalize=True).to_frame()"
   ]
  },
  {
   "cell_type": "markdown",
   "id": "47c97c44",
   "metadata": {},
   "source": [
    "only 38% survived the disaster. So the training data suffers from data imbalance but it is not severe which is why i will not consider techniques like sampling to tackle the imbalance"
   ]
  },
  {
   "cell_type": "code",
   "execution_count": 22,
   "id": "d7b64bcc",
   "metadata": {},
   "outputs": [],
   "source": [
    "cats=['Sex','Embarked','Pclass','SibSp','Parch']\n",
    "rows,cols,expand=2,3,3.5\n",
    "fig,ax=plt.subplots(rows,cols,figsize=(cols*expand,rows*expand))\n",
    "for r in range(rows):\n",
    "    for c in range(cols):\n",
    "        i=r*cols+c # index to loop through list cats\n",
    "        if i <len(cats):\n",
    "            ax_i=ax[r,c]\n",
    "            sns.countplot(data=train_df, x=cats[i],hue='Survived', palette='Greens', ax=ax_i)\n",
    "            ax_i.set_title(f\"Figure {i+1}: Survival Rate vs {cats[i]}\")\n",
    "            ax_i.legend(title='',loc='upper right',labels=['Not Survived','Survived'])\n",
    "ax.flat[-1].set_visible(False)\n",
    "plt.tight_layout()\n",
    "plt.show()"
   ]
  },
  {
   "cell_type": "markdown",
   "id": "a982696c",
   "metadata": {},
   "source": [
    "## Observation\n",
    "Survival Rate:\n",
    "- Fig 1: Female survival rate > male\n",
    "- Fig 2: Most People embarked on Southampton, and also had the highest people not survived\n",
    "- Fig 3: 1st class higher survival rate\n",
    "- Fig 4: People going with 0 SibSp are mostly not survived. The number of passenger with 1-2 family members has a better chance of survival\n",
    "- Fig 5: People going with 0 Parch are mostly not survived."
   ]
  },
  {
   "cell_type": "markdown",
   "id": "a48e51fd",
   "metadata": {},
   "source": [
    "## 3.2. EDA for Numerical Features\n",
    "- Numerical Features: `Age`, `Fare`"
   ]
  },
  {
   "cell_type": "code",
   "execution_count": 23,
   "id": "ebb12bf2",
   "metadata": {},
   "outputs": [],
   "source": [
    "sns.histplot(data=train_df, x='Age', hue='Survived', bins= 60, kde= True);"
   ]
  },
  {
   "cell_type": "markdown",
   "id": "8797fb16",
   "metadata": {},
   "source": [
    "## Fare"
   ]
  },
  {
   "cell_type": "code",
   "execution_count": 24,
   "id": "e8b29abb",
   "metadata": {
    "scrolled": false
   },
   "outputs": [],
   "source": [
    "train_df[\"Fare\"].describe()"
   ]
  },
  {
   "cell_type": "code",
   "execution_count": 25,
   "id": "3729eb04",
   "metadata": {},
   "outputs": [],
   "source": [
    "sns.histplot(data=train_df, x='Fare', hue='Survived', bins=60, palette=\"Blues\");"
   ]
  },
  {
   "cell_type": "code",
   "execution_count": 26,
   "id": "09f3de73",
   "metadata": {},
   "outputs": [],
   "source": [
    "# To name for 0-25%, quartile, 25-50, 50-75, 75-100\n",
    "fare_categories=['Economic', 'Standard', 'Expensive','Luxury']\n",
    "quartile_data= pd.qcut(train_df['Fare'], 4, labels= fare_categories )\n",
    "sns.countplot(x=quartile_data,hue=train_df['Survived'], palette=\"Greens\")"
   ]
  },
  {
   "cell_type": "code",
   "execution_count": 27,
   "id": "246d11f0",
   "metadata": {},
   "outputs": [],
   "source": [
    "train_df['Fare']"
   ]
  },
  {
   "cell_type": "markdown",
   "id": "cd83580a",
   "metadata": {},
   "source": [
    "Distribution of Fare\n",
    "- Fare does not follow a normal distribution and has a huge spike at the price range (0-100 dollars)\n",
    "- The distribution is skewed to the left with `75%` of the fare paid under `31 dollars` and a max paid fare of `512 dollars`\n",
    "Quartile plot\n",
    "- Passenger wiht luxury & Expensive Fare will have more chance to survive"
   ]
  },
  {
   "cell_type": "markdown",
   "id": "654c3a70",
   "metadata": {},
   "source": [
    "# Feature Engineering & Data Wrangling"
   ]
  },
  {
   "cell_type": "markdown",
   "id": "5121ffd1",
   "metadata": {},
   "source": [
    "## `Name`\n",
    "- regular expression (regex101.com)"
   ]
  },
  {
   "cell_type": "code",
   "execution_count": 28,
   "id": "e5c31c9e",
   "metadata": {},
   "outputs": [],
   "source": [
    "train_df['Name'].tail(10)"
   ]
  },
  {
   "cell_type": "code",
   "execution_count": 29,
   "id": "fc47dd23",
   "metadata": {},
   "outputs": [],
   "source": [
    "import re # regular expression\n",
    "def extract_title(name):\n",
    "    p=re.compile(r\",([\\w\\s]+)\\.\")\n",
    "    return p.search(name).groups(1)[0].strip()\n",
    "train_df['title']=train_df['Name'].apply(lambda name: extract_title(name))"
   ]
  },
  {
   "cell_type": "code",
   "execution_count": 30,
   "id": "666e149f",
   "metadata": {},
   "outputs": [],
   "source": [
    "train_df['title'].value_counts()"
   ]
  },
  {
   "cell_type": "code",
   "execution_count": 31,
   "id": "88d38949",
   "metadata": {},
   "outputs": [],
   "source": [
    "test_df['title']=test_df['Name'].apply(lambda name: extract_title(name))"
   ]
  },
  {
   "cell_type": "code",
   "execution_count": 32,
   "id": "d4771182",
   "metadata": {},
   "outputs": [],
   "source": [
    "test_df['title'].value_counts()"
   ]
  },
  {
   "cell_type": "code",
   "execution_count": 33,
   "id": "45a2c96e",
   "metadata": {},
   "outputs": [],
   "source": [
    "sns.countplot(data=train_df, x= 'title',hue='Survived');"
   ]
  },
  {
   "cell_type": "code",
   "execution_count": 34,
   "id": "1267d3d2",
   "metadata": {
    "scrolled": true
   },
   "outputs": [],
   "source": [
    "train_df['title'].apply(lambda title: title if title in ['Mr','Mrs','Ms',\"Master\"] else 'Other')"
   ]
  },
  {
   "cell_type": "code",
   "execution_count": 35,
   "id": "85fec3e0",
   "metadata": {},
   "outputs": [],
   "source": [
    "train_df['title'].value_counts()"
   ]
  },
  {
   "cell_type": "code",
   "execution_count": 36,
   "id": "b0187e00",
   "metadata": {},
   "outputs": [],
   "source": [
    "def group_title(title):\n",
    "    if title in ['Mr','Mrs','Ms',\"Master\"]:\n",
    "        return title\n",
    "    elif title =='Ms':\n",
    "        return 'Miss'\n",
    "    else:\n",
    "        return 'Others'\n",
    "train_df['title']=train_df['title'].apply(lambda title: group_title(title))\n",
    "test_df['title']=test_df['title'].apply(lambda title: group_title(title))"
   ]
  },
  {
   "cell_type": "code",
   "execution_count": 37,
   "id": "462167bf",
   "metadata": {},
   "outputs": [],
   "source": [
    "train_df['title'].value_counts()"
   ]
  },
  {
   "cell_type": "code",
   "execution_count": 38,
   "id": "8bc25938",
   "metadata": {},
   "outputs": [],
   "source": [
    "test_df['title'].value_counts()"
   ]
  }
 ],
 "metadata": {
  "kernelspec": {
   "display_name": "Python 3 (ipykernel)",
   "language": "python",
   "name": "python3"
  },
  "language_info": {
   "codemirror_mode": {
    "name": "ipython",
    "version": 3
   },
   "file_extension": ".py",
   "mimetype": "text/x-python",
   "name": "python",
   "nbconvert_exporter": "python",
   "pygments_lexer": "ipython3",
   "version": "3.11.3"
  }
 },
 "nbformat": 4,
 "nbformat_minor": 5
}
